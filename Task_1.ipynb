{
 "cells": [
  {
   "cell_type": "markdown",
   "id": "6ef9b39e",
   "metadata": {},
   "source": [
    "# Task 1"
   ]
  },
  {
   "cell_type": "markdown",
   "id": "1e884e08",
   "metadata": {},
   "source": [
    "### 1. Reading the file"
   ]
  },
  {
   "cell_type": "code",
   "execution_count": 6,
   "id": "c57d3c04",
   "metadata": {},
   "outputs": [
    {
     "name": "stdout",
     "output_type": "stream",
     "text": [
      ">seq1\n",
      "cGTAaccaataaaaaaacaagcttaacctaattc\n",
      ">seq2\n",
      "agcttagTTTGGatctggccgggg\n",
      ">seq3\n",
      "gcggatttactcCCCCCAAAAANNaggggagagcccagataaatggagtctgtgcgtccaca\n",
      ">seq4\n",
      "gcggatttactcaggggagagcccagGGataaatggagtctgtgcgtccaca\n",
      "<class 'str'>\n"
     ]
    }
   ],
   "source": [
    "\n",
    "with open(\"dna_raw.txt\", \"r\") as file: # Opening the file \n",
    "    dna1 = file.read() # Read the file\n",
    "print(dna1) \n",
    "print(type(dna1)) # The output is str but it needs to be a list\n"
   ]
  },
  {
   "cell_type": "markdown",
   "id": "61b550dd",
   "metadata": {},
   "source": [
    "### 2. Convert all the letters in the sequence to upper case"
   ]
  },
  {
   "cell_type": "code",
   "execution_count": null,
   "id": "8b39727d",
   "metadata": {},
   "outputs": [],
   "source": [
    "dna1 = dna1.upper()\n",
    "# Doesn't matter if it's upper or lower, just needs to be the same since the sequence is not case sensitive."
   ]
  },
  {
   "cell_type": "markdown",
   "id": "93800c50",
   "metadata": {},
   "source": [
    "### 3. Converting the output from a string to a list"
   ]
  },
  {
   "cell_type": "code",
   "execution_count": 18,
   "id": "cd8250f3",
   "metadata": {},
   "outputs": [
    {
     "name": "stdout",
     "output_type": "stream",
     "text": [
      "['>SEQ1', 'CGTAACCAATAAAAAAACAAGCTTAACCTAATTC', '>SEQ2', 'AGCTTAGTTTGGATCTGGCCGGGG', '>SEQ3', 'GCGGATTTACTCCCCCCAAAAANNAGGGGAGAGCCCAGATAAATGGAGTCTGTGCGTCCACA', '>SEQ4', 'GCGGATTTACTCAGGGGAGAGCCCAGGGATAAATGGAGTCTGTGCGTCCACA']\n",
      "<class 'list'>\n"
     ]
    }
   ],
   "source": [
    "# The split operator always returns a list. \n",
    "\n",
    "sequences = dna1.split(\"\\n\") \n",
    "# we're saying that the linebreak (\\n) is the separator.  \n",
    "print(sequences)\n",
    "print(type(sequences)) # Not necessary to use type here since 1). split operator always returns a list 2). the brackets already showing that the output is returned in a list."
   ]
  },
  {
   "cell_type": "markdown",
   "id": "e6caf1e2",
   "metadata": {},
   "source": [
    "### 4. Print each line separately"
   ]
  },
  {
   "cell_type": "code",
   "execution_count": 19,
   "id": "f945df91",
   "metadata": {},
   "outputs": [
    {
     "name": "stdout",
     "output_type": "stream",
     "text": [
      ">SEQ1\n",
      "CGTAACCAATAAAAAAACAAGCTTAACCTAATTC\n",
      ">SEQ2\n",
      "AGCTTAGTTTGGATCTGGCCGGGG\n",
      ">SEQ3\n",
      "GCGGATTTACTCCCCCCAAAAANNAGGGGAGAGCCCAGATAAATGGAGTCTGTGCGTCCACA\n",
      ">SEQ4\n",
      "GCGGATTTACTCAGGGGAGAGCCCAGGGATAAATGGAGTCTGTGCGTCCACA\n"
     ]
    }
   ],
   "source": [
    "# To make it easier to read we can print each sequence on it's own row by using a for loop\n",
    "\n",
    "for sequence in sequences:\n",
    "    print(sequence)"
   ]
  },
  {
   "cell_type": "markdown",
   "id": "816cbee4",
   "metadata": {},
   "source": [
    "### 5. Create a dictionary for each sequence"
   ]
  },
  {
   "cell_type": "markdown",
   "id": "ec8067d5",
   "metadata": {},
   "source": [
    "Creating one dictionary at a time"
   ]
  },
  {
   "cell_type": "code",
   "execution_count": 12,
   "id": "dfa43e46",
   "metadata": {},
   "outputs": [
    {
     "name": "stdout",
     "output_type": "stream",
     "text": [
      "Seq1:{'A': 17, 'T': 7, 'C': 8, 'G': 2, 'N': 0}\n"
     ]
    }
   ],
   "source": [
    "# Sequence 1\n",
    "SQ1 = 'CGTAACCAATAAAAAAACAAGCTTAACCTAATTC'\n",
    "\n",
    "# Create dictionary to count the letters in sequence 1\n",
    "letter_count_SQ1 = {'A': 0, 'T': 0, 'C':0, 'G': 0, 'N':0} \n",
    "\n",
    "# Count each letter and add to the total count\n",
    "for letter in SQ1:\n",
    "    letter_count_SQ1[letter] += 1\n",
    "\n",
    "print(f'Seq1:{letter_count_SQ1}')"
   ]
  },
  {
   "cell_type": "markdown",
   "id": "888db2db",
   "metadata": {},
   "source": [
    "Looping through all the lines instead of doing each line manually"
   ]
  },
  {
   "cell_type": "code",
   "execution_count": null,
   "id": "1117a5da",
   "metadata": {},
   "outputs": [
    {
     "name": "stdout",
     "output_type": "stream",
     "text": [
      ">SEQ1: {'A': 17, 'T': 7, 'C': 8, 'G': 2, 'N': 0}\n",
      ">SEQ2: {'A': 3, 'T': 7, 'C': 4, 'G': 10, 'N': 0}\n",
      ">SEQ3: {'A': 18, 'T': 10, 'C': 16, 'G': 16, 'N': 2}\n",
      ">SEQ4: {'A': 13, 'T': 10, 'C': 11, 'G': 18, 'N': 0}\n"
     ]
    }
   ],
   "source": [
    "with open(\"dna_raw.txt\", \"r\") as file:\n",
    "    dna1 = file.read()\n",
    "\n",
    "    dna1 = dna1.upper()\n",
    "    sequences = dna1.split(\"\\n\") \n",
    "\n",
    "\n",
    "for i in range(0, len(sequences),2): # Loops through the list in steps of two\n",
    "    SQ_nr = sequences[i] # This is the sequence row (SQ1, SQ2,..)\n",
    "    dna_string = sequences [i+1] # This is the dna string associated with the sequence number on the row above\n",
    "\n",
    "    # Using the same way as above to create a dictionary for each sequence\n",
    "    letter_count_SQ = {'A': 0, 'T': 0, 'C':0, 'G': 0, 'N':0} \n",
    "    for letter in dna_string:\n",
    "        letter_count_SQ[letter] += 1\n",
    "    print(f'{SQ_nr}: {letter_count_SQ}')\n"
   ]
  },
  {
   "cell_type": "markdown",
   "id": "10bc31b4",
   "metadata": {},
   "source": [
    "### 6. Create a graph for each sequence"
   ]
  },
  {
   "cell_type": "code",
   "execution_count": 1,
   "id": "4579713d",
   "metadata": {},
   "outputs": [
    {
     "data": {
      "image/png": "[encoded data removed]",
      "text/plain": [
       "<Figure size 640x480 with 1 Axes>"
      ]
     },
     "metadata": {},
     "output_type": "display_data"
    }
   ],
   "source": [
    "import matplotlib.pyplot as plt\n",
    "\n",
    "# Data for one sequence (SEQ1)\n",
    "letters = ['A', 'T', 'C', 'G']\n",
    "counts = [17, 7, 8, 2]\n",
    "\n",
    "# Create bar chart\n",
    "plt.bar(letters, counts)\n",
    "plt.title('SEQ1')\n",
    "plt.xlabel('DNA Letters')\n",
    "plt.ylabel('Count')\n",
    "plt.show()\n",
    "\n",
    "\n"
   ]
  }
 ],
 "metadata": {
  "kernelspec": {
   "display_name": "Lab1_python-_fundamentals (3.12.10)",
   "language": "python",
   "name": "python3"
  },
  "language_info": {
   "codemirror_mode": {
    "name": "ipython",
    "version": 3
   },
   "file_extension": ".py",
   "mimetype": "text/x-python",
   "name": "python",
   "nbconvert_exporter": "python",
   "pygments_lexer": "ipython3",
   "version": "3.12.10"
  }
 },
 "nbformat": 4,
 "nbformat_minor": 5
}
