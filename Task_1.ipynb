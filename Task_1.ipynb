{
 "cells": [
  {
   "cell_type": "markdown",
   "id": "6ef9b39e",
   "metadata": {},
   "source": [
    "# Task 1"
   ]
  },
  {
   "cell_type": "markdown",
   "id": "1e884e08",
   "metadata": {},
   "source": [
    "### 1. Reading the file"
   ]
  },
  {
   "cell_type": "code",
   "execution_count": 6,
   "id": "c57d3c04",
   "metadata": {},
   "outputs": [
    {
     "name": "stdout",
     "output_type": "stream",
     "text": [
      ">seq1\n",
      "cGTAaccaataaaaaaacaagcttaacctaattc\n",
      ">seq2\n",
      "agcttagTTTGGatctggccgggg\n",
      ">seq3\n",
      "gcggatttactcCCCCCAAAAANNaggggagagcccagataaatggagtctgtgcgtccaca\n",
      ">seq4\n",
      "gcggatttactcaggggagagcccagGGataaatggagtctgtgcgtccaca\n",
      "<class 'str'>\n"
     ]
    }
   ],
   "source": [
    "\n",
    "with open(\"dna_raw.txt\", \"r\") as file: # Opening the file \n",
    "    dna1 = file.read() # Read the file\n",
    "print(dna1) \n",
    "print(type(dna1)) # The output is str but it needs to be a list\n"
   ]
  },
  {
   "cell_type": "markdown",
   "id": "61b550dd",
   "metadata": {},
   "source": [
    "### 2. Convert all the letters in the sequence to upper case"
   ]
  },
  {
   "cell_type": "code",
   "execution_count": null,
   "id": "8b39727d",
   "metadata": {},
   "outputs": [],
   "source": [
    "dna1 = dna1.upper()\n",
    "# Doesn't matter if it's upper or lower, just needs to be the same since the sequence is not case sensitive."
   ]
  },
  {
   "cell_type": "markdown",
   "id": "93800c50",
   "metadata": {},
   "source": [
    "### 3. Converting the output from a string to a list"
   ]
  },
  {
   "cell_type": "code",
   "execution_count": 18,
   "id": "cd8250f3",
   "metadata": {},
   "outputs": [
    {
     "name": "stdout",
     "output_type": "stream",
     "text": [
      "['>SEQ1', 'CGTAACCAATAAAAAAACAAGCTTAACCTAATTC', '>SEQ2', 'AGCTTAGTTTGGATCTGGCCGGGG', '>SEQ3', 'GCGGATTTACTCCCCCCAAAAANNAGGGGAGAGCCCAGATAAATGGAGTCTGTGCGTCCACA', '>SEQ4', 'GCGGATTTACTCAGGGGAGAGCCCAGGGATAAATGGAGTCTGTGCGTCCACA']\n",
      "<class 'list'>\n"
     ]
    }
   ],
   "source": [
    "# The split operator always returns a list. \n",
    "\n",
    "sequences = dna1.split(\"\\n\") \n",
    "# we're saying that the linebreak (\\n) is the separator.  \n",
    "print(sequences)\n",
    "print(type(sequences)) # Not necessary to use type here since 1). split operator always returns a list 2). the brackets already showing that the output is returned in a list."
   ]
  },
  {
   "cell_type": "markdown",
   "id": "e6caf1e2",
   "metadata": {},
   "source": [
    "### 4. Print each line separately"
   ]
  },
  {
   "cell_type": "code",
   "execution_count": 19,
   "id": "f945df91",
   "metadata": {},
   "outputs": [
    {
     "name": "stdout",
     "output_type": "stream",
     "text": [
      ">SEQ1\n",
      "CGTAACCAATAAAAAAACAAGCTTAACCTAATTC\n",
      ">SEQ2\n",
      "AGCTTAGTTTGGATCTGGCCGGGG\n",
      ">SEQ3\n",
      "GCGGATTTACTCCCCCCAAAAANNAGGGGAGAGCCCAGATAAATGGAGTCTGTGCGTCCACA\n",
      ">SEQ4\n",
      "GCGGATTTACTCAGGGGAGAGCCCAGGGATAAATGGAGTCTGTGCGTCCACA\n"
     ]
    }
   ],
   "source": [
    "# To make it easier to read we can print each sequence on it's own row by using a for loop\n",
    "\n",
    "for sequence in sequences:\n",
    "    print(sequence)"
   ]
  }
 ],
 "metadata": {
  "kernelspec": {
   "display_name": "Lab1_python-_fundamentals (3.12.10)",
   "language": "python",
   "name": "python3"
  },
  "language_info": {
   "codemirror_mode": {
    "name": "ipython",
    "version": 3
   },
   "file_extension": ".py",
   "mimetype": "text/x-python",
   "name": "python",
   "nbconvert_exporter": "python",
   "pygments_lexer": "ipython3",
   "version": "3.12.10"
  }
 },
 "nbformat": 4,
 "nbformat_minor": 5
}
